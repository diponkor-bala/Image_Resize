{
 "cells": [
  {
   "cell_type": "code",
   "execution_count": 7,
   "id": "6a6bc886",
   "metadata": {},
   "outputs": [],
   "source": [
    "#!/usr/bin/python\n",
    "from PIL import Image\n",
    "import os, sys\n",
    "\n",
    "path = \"C:\\\\Users\\\\Diponkor\\\\Desktop\\\\New folder\\\\\"\n",
    "dirs = os.listdir( path )\n",
    "\n",
    "def resize():\n",
    "    for item in dirs:\n",
    "        if os.path.isfile(path+item):\n",
    "            im = Image.open(path+item)\n",
    "            f, e = os.path.splitext(path+item)\n",
    "            imResize = im.resize((564,284), Image.ANTIALIAS)\n",
    "            imResize.save(f + ' resized.png', 'png', quality=100)\n"
   ]
  },
  {
   "cell_type": "code",
   "execution_count": 8,
   "id": "85a96b12",
   "metadata": {},
   "outputs": [],
   "source": [
    "resize()"
   ]
  },
  {
   "cell_type": "code",
   "execution_count": null,
   "id": "4a77ae1b",
   "metadata": {},
   "outputs": [],
   "source": []
  }
 ],
 "metadata": {
  "kernelspec": {
   "display_name": "Python 3",
   "language": "python",
   "name": "python3"
  },
  "language_info": {
   "codemirror_mode": {
    "name": "ipython",
    "version": 3
   },
   "file_extension": ".py",
   "mimetype": "text/x-python",
   "name": "python",
   "nbconvert_exporter": "python",
   "pygments_lexer": "ipython3",
   "version": "3.8.8"
  }
 },
 "nbformat": 4,
 "nbformat_minor": 5
}
